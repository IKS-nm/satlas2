{
 "cells": [
  {
   "cell_type": "markdown",
   "id": "43642ad6",
   "metadata": {},
   "source": [
    "As a stepping stone between SATLAS and SATLAS2, an interface has been provided which can mostly be used as a drop-in replacement for code that uses the SATLAS syntax. Note that not all functionalities have been implemented in this fashion. For users that require these functionalities, we recommend migrating to SATLAS2."
   ]
  },
  {
   "cell_type": "code",
   "execution_count": 1,
   "id": "86b2fcf9",
   "metadata": {},
   "outputs": [],
   "source": [
    "import sys\n",
    "import time\n",
    "\n",
    "import matplotlib.gridspec as gridspec\n",
    "import matplotlib.pyplot as plt\n",
    "import numpy as np\n",
    "\n",
    "sys.path.insert(0, '..\\src')\n",
    "\n",
    "import satlas2\n",
    "import satlas as sat\n",
    "\n",
    "\n",
    "def modifiedSqrt(input):\n",
    "    output = np.sqrt(input)\n",
    "    output[input <= 0] = 1e-3\n",
    "    return output"
   ]
  },
  {
   "cell_type": "markdown",
   "id": "0a6a3360",
   "metadata": {},
   "source": [
    "# Fitting a single hyperfine spectrum\n",
    "\n",
    "The most common task, and the one this interface is meant for, is fitting a single hyperfine spectrum. A special class in SATLAS2 called *HFSModel* has been created as a replacement for the equivalent SATLAS *HFSModel*. Note that the normal hyperfine spectrum model in SATLAS2 is called *HFS*."
   ]
  },
  {
   "cell_type": "code",
   "execution_count": 2,
   "id": "392a3a09",
   "metadata": {},
   "outputs": [
    {
     "name": "stderr",
     "output_type": "stream",
     "text": [
      "C:\\Users\\megat\\Documents\\git_repositories\\personal\\satlas2\\examples\\..\\src\\satlas2\\models\\hfsModel.py:284: RuntimeWarning: invalid value encountered in scalar divide\n",
      "  shift = phase * n / d\n"
     ]
    },
    {
     "ename": "AttributeError",
     "evalue": "'HFSModel' object has no attribute 'set_variation'",
     "output_type": "error",
     "traceback": [
      "\u001b[1;31m---------------------------------------------------------------------------\u001b[0m",
      "\u001b[1;31mAttributeError\u001b[0m                            Traceback (most recent call last)",
      "Cell \u001b[1;32mIn[2], line 24\u001b[0m\n\u001b[0;32m     15\u001b[0m rng \u001b[38;5;241m=\u001b[39m np\u001b[38;5;241m.\u001b[39mrandom\u001b[38;5;241m.\u001b[39mdefault_rng(\u001b[38;5;241m0\u001b[39m)\n\u001b[0;32m     16\u001b[0m hfs \u001b[38;5;241m=\u001b[39m satlas2\u001b[38;5;241m.\u001b[39mHFSModel(I\u001b[38;5;241m=\u001b[39mspin,\n\u001b[0;32m     17\u001b[0m                        J\u001b[38;5;241m=\u001b[39mJ,\n\u001b[0;32m     18\u001b[0m                        ABC\u001b[38;5;241m=\u001b[39m[A[\u001b[38;5;241m0\u001b[39m], A[\u001b[38;5;241m1\u001b[39m], B[\u001b[38;5;241m0\u001b[39m], B[\u001b[38;5;241m1\u001b[39m], C[\u001b[38;5;241m0\u001b[39m], C[\u001b[38;5;241m1\u001b[39m]],\n\u001b[1;32m   (...)\u001b[0m\n\u001b[0;32m     22\u001b[0m                        background_params\u001b[38;5;241m=\u001b[39mbkg,\n\u001b[0;32m     23\u001b[0m                        use_racah\u001b[38;5;241m=\u001b[39m\u001b[38;5;28;01mTrue\u001b[39;00m)\n\u001b[1;32m---> 24\u001b[0m \u001b[43mhfs\u001b[49m\u001b[38;5;241;43m.\u001b[39;49m\u001b[43mset_variation\u001b[49m({\u001b[38;5;124m'\u001b[39m\u001b[38;5;124mCu\u001b[39m\u001b[38;5;124m'\u001b[39m: \u001b[38;5;28;01mFalse\u001b[39;00m})\n",
      "\u001b[1;31mAttributeError\u001b[0m: 'HFSModel' object has no attribute 'set_variation'"
     ]
    }
   ],
   "source": [
    "spin = 3.5\n",
    "J = [0.5, 1.5]\n",
    "A = [9600, 175]\n",
    "B = [0, 315]\n",
    "C = [0, 0]\n",
    "FWHMG = 135\n",
    "FWHML = 101\n",
    "centroid = 480\n",
    "bkg = [100]\n",
    "scale = 90\n",
    "\n",
    "x = np.arange(-17500, -14500, 40)\n",
    "x = np.hstack([x, np.arange(20000, 23000, 40)])\n",
    "\n",
    "rng = np.random.default_rng(0)\n",
    "hfs = satlas2.HFSModel(I=spin,\n",
    "                       J=J,\n",
    "                       ABC=[A[0], A[1], B[0], B[1], C[0], C[1]],\n",
    "                       centroid=centroid,\n",
    "                       fwhm=[FWHMG, FWHML],\n",
    "                       scale=scale,\n",
    "                       background_params=bkg,\n",
    "                       use_racah=True)\n",
    "hfs.set_variation({'Cu': False})"
   ]
  },
  {
   "cell_type": "markdown",
   "id": "38ba0c3c",
   "metadata": {},
   "source": [
    "The object called *hfs* can be used with the syntax of SATLAS. Generating Poisson-distributed data is done by simply calling the function with frequency values as an argument, and using the result for the NumPy Poisson random number generator."
   ]
  },
  {
   "cell_type": "code",
   "execution_count": null,
   "id": "13478f9f",
   "metadata": {},
   "outputs": [],
   "source": [
    "y = hfs(x)\n",
    "y = rng.poisson(y)"
   ]
  },
  {
   "cell_type": "markdown",
   "id": "69dbcaca",
   "metadata": {},
   "source": [
    "In order to demonstrate the difference in performance, the centroid is offset by 100 from the actual value and the fitting is done by both the interface and SATLAS."
   ]
  },
  {
   "cell_type": "code",
   "execution_count": null,
   "id": "6c85b9f6",
   "metadata": {
    "scrolled": false
   },
   "outputs": [],
   "source": [
    "hfs.params['centroid'].value = centroid - 100\n",
    "hfs1 = sat.HFSModel(spin,\n",
    "                    J, [A[0], A[1], B[0], B[1], C[0], C[1]],\n",
    "                    centroid - 100, [FWHMG, FWHML],\n",
    "                    scale=scale,\n",
    "                    background_params=bkg,\n",
    "                    use_racah=True)\n",
    "hfs1.set_variation({'Cu': False})\n",
    "\n",
    "print('Fitting 1 dataset with chisquare (Pearson, satlas2)...')\n",
    "start = time.time()\n",
    "f = satlas2.chisquare_fit(hfs, x, y, modifiedSqrt(y), show_correl=False)\n",
    "stop = time.time()\n",
    "dt1 = stop - start\n",
    "\n",
    "print('Fitting 1 dataset with chisquare (Pearson, satlas1)...')\n",
    "start = time.time()\n",
    "sat.chisquare_fit(hfs1, x, y, modifiedSqrt(y))\n",
    "hfs1.display_chisquare_fit(show_correl=False)\n",
    "stop = time.time()\n",
    "dt2 = stop - start\n",
    "print('SATLAS2: {:.3} s, {:.0f} function evaluations'.format(\n",
    "    dt1, f.result.nfev))\n",
    "print('SATLAS1: {:.3} s'.format(dt2))\n",
    "\n",
    "fig = plt.figure(constrained_layout=True, figsize=(14, 9))\n",
    "gs = gridspec.GridSpec(nrows=2, ncols=2, figure=fig)\n",
    "ax11 = fig.add_subplot(gs[0, 0])\n",
    "ax11.label_outer()\n",
    "ax12 = fig.add_subplot(gs[0, 1])\n",
    "ax12.label_outer()\n",
    "ax21 = fig.add_subplot(gs[1, 0])\n",
    "ax21.label_outer()\n",
    "ax22 = fig.add_subplot(gs[1, 1])\n",
    "ax22.label_outer()\n",
    "\n",
    "ax11.errorbar(x, y, modifiedSqrt(y), fmt='.', label='Artificial data')\n",
    "ax11.plot(x, hfs(x), '-', label='SATLAS2 fit')\n",
    "ax11.set_xlim(-17500, -14500)\n",
    "ax12.errorbar(x, y, modifiedSqrt(y), fmt='.', label='Artificial data')\n",
    "ax12.plot(x, hfs(x), '-', label='SATLAS2 fit')\n",
    "ax12.set_xlim(20000, 23000)\n",
    "ax21.errorbar(x, y, modifiedSqrt(y), fmt='.', label='Artificial data')\n",
    "ax21.plot(x, hfs1(x), '-', label='SATLAS fit')\n",
    "ax21.set_xlim(-17500, -14500)\n",
    "ax22.errorbar(x, y, modifiedSqrt(y), fmt='.', label='Artificial data')\n",
    "ax22.plot(x, hfs1(x), '-', label='SATLAS fit')\n",
    "ax22.set_xlim(20000, 23000)\n",
    "ax11.legend()\n",
    "ax21.legend()\n",
    "plt.show()"
   ]
  },
  {
   "cell_type": "markdown",
   "id": "1e1056f2",
   "metadata": {},
   "source": [
    "Note that the results are functionally identical: the slight difference is due to a more modern implementation of the least squares fitting routine that is used under the hood by SATLAS2. The speedup by using SATLAS 2 is about a factor 20 for a single spectrum."
   ]
  },
  {
   "cell_type": "markdown",
   "id": "f27b2b7d",
   "metadata": {},
   "source": [
    "# Overlapping hyperfine spectra\n",
    "\n",
    "The other most common usecase for SATLAS was analysis of spectra with an isomer present, resulting in overlapping spectra. In the SATLAS terminology, this would result in a *SumModel* being used. In SATLAS2, a second *HFS* is simply added to the Source. However, the interface does provide the folllowing functionality:"
   ]
  },
  {
   "cell_type": "code",
   "execution_count": null,
   "id": "15dc68af",
   "metadata": {
    "scrolled": false
   },
   "outputs": [],
   "source": [
    "J = [0.5, 1.5]\n",
    "FWHMG = 135\n",
    "FWHML = 101\n",
    "\n",
    "spin1 = 4\n",
    "A1 = [5300, 100]\n",
    "B1 = [0, 230]\n",
    "C1 = [0, 0]\n",
    "centroid1 = 400\n",
    "bkg1 = 60\n",
    "scale1 = 90\n",
    "\n",
    "spin2 = 7\n",
    "A2 = [3300, 60]\n",
    "B2 = [0, 270]\n",
    "C2 = [0, 0]\n",
    "centroid2 = -100\n",
    "bkg2 = 60\n",
    "scale2 = 160\n",
    "\n",
    "x = np.arange(-13000, -9000, 40)\n",
    "x = np.hstack([x, np.arange(11000, 14000, 40)])\n",
    "rng = np.random.default_rng(0)\n",
    "\n",
    "hfs1 = satlas2.HFSModel(I=spin1,\n",
    "                        J=J,\n",
    "                        ABC=[A1[0], A1[1], B1[0], B1[1], C1[0], C1[1]],\n",
    "                        centroid=centroid1,\n",
    "                        fwhm=[FWHMG, FWHML],\n",
    "                        scale=scale1,\n",
    "                        background_params=[bkg1],\n",
    "                        use_racah=True)\n",
    "hfs1.set_variation({'Cu': False})\n",
    "hfs2 = satlas2.HFSModel(I=spin2,\n",
    "                        J=J,\n",
    "                        ABC=[A2[0], A2[1], B2[0], B2[1], C2[0], C2[1]],\n",
    "                        centroid=centroid2,\n",
    "                        fwhm=[FWHMG, FWHML],\n",
    "                        scale=scale2,\n",
    "                        background_params=[bkg2],\n",
    "                        use_racah=True)\n",
    "hfs2.set_variation({'Cu': False})\n",
    "y = hfs1.f(x) + hfs2.f(x) + satlas2.Step([bkg1, bkg2], [0]).f(x)\n",
    "y = rng.poisson(y)\n",
    "\n",
    "hfs1.params['centroid'].value = centroid1 - 100\n",
    "hfs2.params['centroid'].value = centroid2 - 100\n",
    "summodel = satlas2.SumModel([hfs1, hfs2], {\n",
    "    'values': [bkg1, bkg2],\n",
    "    'bounds': [0]\n",
    "})\n",
    "\n",
    "hfs3 = sat.HFSModel(spin1,\n",
    "                    J, [A1[0], A1[1], B1[0], B1[1], C1[0], C1[1]],\n",
    "                    centroid - 100, [FWHMG, FWHML],\n",
    "                    scale=scale1,\n",
    "                    background_params=bkg,\n",
    "                    use_racah=True)\n",
    "hfs4 = sat.HFSModel(spin2,\n",
    "                    J, [A2[0], A2[1], B2[0], B2[1], C2[0], C2[1]],\n",
    "                    centroid - 100, [FWHMG, FWHML],\n",
    "                    scale=scale2,\n",
    "                    background_params=[0],\n",
    "                    use_racah=True)\n",
    "hfs3.set_variation({'Cu': False})\n",
    "hfs4.set_variation({'Background0': False, 'Cu': False})\n",
    "summodel2 = hfs3 + hfs4\n",
    "\n",
    "print('Fitting 1 dataset with chisquare (Pearson, satlas2)...')\n",
    "start = time.time()\n",
    "f = satlas2.chisquare_fit(summodel, x, y, modifiedSqrt(y), show_correl=False)\n",
    "stop = time.time()\n",
    "dt1 = stop - start\n",
    "start = time.time()\n",
    "sat.chisquare_fit(summodel2, x, y, modifiedSqrt(y))\n",
    "summodel2.display_chisquare_fit(show_correl=False)\n",
    "stop = time.time()\n",
    "dt2 = stop - start\n",
    "print('SATLAS2: {:.3} s, {:.0f} function evaluations'.format(\n",
    "    dt1, f.result.nfev))\n",
    "print('SATLAS1: {:.3} s'.format(dt2, f.result.nfev))\n",
    "\n",
    "fig = plt.figure(constrained_layout=True, figsize=(14, 9))\n",
    "gs = gridspec.GridSpec(nrows=2, ncols=2, figure=fig)\n",
    "ax11 = fig.add_subplot(gs[0, 0])\n",
    "ax11.label_outer()\n",
    "ax12 = fig.add_subplot(gs[0, 1])\n",
    "ax12.label_outer()\n",
    "ax21 = fig.add_subplot(gs[1, 0])\n",
    "ax21.label_outer()\n",
    "ax22 = fig.add_subplot(gs[1, 1])\n",
    "ax22.label_outer()\n",
    "\n",
    "ax11.errorbar(x, y, modifiedSqrt(y), fmt='.', label='Artificial data')\n",
    "ax11.plot(x, hfs1.f(x), '-', label='SATLAS2 fit model 1')\n",
    "ax11.plot(x, hfs2.f(x), '-', label='SATLAS2 fit model 2')\n",
    "ax11.plot(x, summodel.f(x), '-', label='Sum of models')\n",
    "ax11.set_xlim(-13000, -9000)\n",
    "ax12.errorbar(x, y, modifiedSqrt(y), fmt='.', label='Artificial data')\n",
    "ax12.plot(x, hfs1.f(x), '-', label='SATLAS2 fit model 1')\n",
    "ax12.plot(x, hfs2.f(x), '-', label='SATLAS2 fit model 2')\n",
    "ax12.plot(x, summodel.f(x), '-', label='Sum of models')\n",
    "ax12.set_xlim(11000, 14000)\n",
    "ax11.legend()\n",
    "\n",
    "ax21.errorbar(x, y, modifiedSqrt(y), fmt='.', label='Artificial data')\n",
    "ax21.plot(x, hfs3(x), '-', label='SATLAS fit model 1')\n",
    "ax21.plot(x, hfs4(x), '-', label='SATLAS fit model 2')\n",
    "ax21.plot(x, summodel2(x), '-', label='Sum of models')\n",
    "ax21.set_xlim(-13000, -9000)\n",
    "ax22.errorbar(x, y, modifiedSqrt(y), fmt='.', label='Artificial data')\n",
    "ax22.plot(x, hfs3(x), '-', label='SATLAS fit model 1')\n",
    "ax22.plot(x, hfs4(x), '-', label='SATLAS fit model 2')\n",
    "ax22.plot(x, summodel2(x), '-', label='Sum of models')\n",
    "ax22.set_xlim(11000, 14000)\n",
    "ax21.legend()\n",
    "plt.show()"
   ]
  },
  {
   "cell_type": "markdown",
   "id": "c3b565aa",
   "metadata": {},
   "source": [
    "The difference in result is due to the original SATLAS not implementing a Step background model, where the constant background has a different value left and right of some user-provided threshold value. Notice here that the speedup bue using the SATLAS2 implementation has risen from a factor 20 for a single spectrum to a factor 60."
   ]
  },
  {
   "cell_type": "code",
   "execution_count": null,
   "id": "7eb64963",
   "metadata": {},
   "outputs": [],
   "source": []
  }
 ],
 "metadata": {
  "kernelspec": {
   "display_name": "Python 3 (ipykernel)",
   "language": "python",
   "name": "python3"
  },
  "language_info": {
   "codemirror_mode": {
    "name": "ipython",
    "version": 3
   },
   "file_extension": ".py",
   "mimetype": "text/x-python",
   "name": "python",
   "nbconvert_exporter": "python",
   "pygments_lexer": "ipython3",
   "version": "3.11.0"
  }
 },
 "nbformat": 4,
 "nbformat_minor": 5
}
